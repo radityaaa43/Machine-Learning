{
  "nbformat": 4,
  "nbformat_minor": 0,
  "metadata": {
    "colab": {
      "name": "Copy of tes submisiion.ipynb",
      "provenance": [],
      "collapsed_sections": []
    },
    "kernelspec": {
      "display_name": "Python 3",
      "language": "python",
      "name": "python3"
    },
    "language_info": {
      "codemirror_mode": {
        "name": "ipython",
        "version": 3
      },
      "file_extension": ".py",
      "mimetype": "text/x-python",
      "name": "python",
      "nbconvert_exporter": "python",
      "pygments_lexer": "ipython3",
      "version": "3.7.8"
    },
    "accelerator": "GPU"
  },
  "cells": [
    {
      "cell_type": "markdown",
      "metadata": {
        "id": "icTZxttPht7p"
      },
      "source": [
        "#**NLP using TensorFlow**\n",
        "Dataset: https://www.kaggle.com/andrewmvd/trip-advisor-hotel-reviews"
      ]
    },
    {
      "cell_type": "code",
      "metadata": {
        "id": "xhUDpOsjhNDR"
      },
      "source": [
        "#Import dataset\n",
        "\n",
        "import pandas as pd\n",
        "df = pd.read_csv(\"/content/spam_ham_dataset.csv\")"
      ],
      "execution_count": null,
      "outputs": []
    },
    {
      "cell_type": "code",
      "metadata": {
        "colab": {
          "base_uri": "https://localhost:8080/",
          "height": 204
        },
        "id": "3rKdsW_SpqBY",
        "outputId": "0f04a0dd-fde6-4cbc-b6f2-578204738903"
      },
      "source": [
        "df.head()"
      ],
      "execution_count": null,
      "outputs": [
        {
          "output_type": "execute_result",
          "data": {
            "text/html": [
              "<div>\n",
              "<style scoped>\n",
              "    .dataframe tbody tr th:only-of-type {\n",
              "        vertical-align: middle;\n",
              "    }\n",
              "\n",
              "    .dataframe tbody tr th {\n",
              "        vertical-align: top;\n",
              "    }\n",
              "\n",
              "    .dataframe thead th {\n",
              "        text-align: right;\n",
              "    }\n",
              "</style>\n",
              "<table border=\"1\" class=\"dataframe\">\n",
              "  <thead>\n",
              "    <tr style=\"text-align: right;\">\n",
              "      <th></th>\n",
              "      <th>Unnamed: 0</th>\n",
              "      <th>label</th>\n",
              "      <th>text</th>\n",
              "      <th>label_num</th>\n",
              "    </tr>\n",
              "  </thead>\n",
              "  <tbody>\n",
              "    <tr>\n",
              "      <th>0</th>\n",
              "      <td>605</td>\n",
              "      <td>ham</td>\n",
              "      <td>Subject: enron methanol ; meter # : 988291\\r\\n...</td>\n",
              "      <td>0</td>\n",
              "    </tr>\n",
              "    <tr>\n",
              "      <th>1</th>\n",
              "      <td>2349</td>\n",
              "      <td>ham</td>\n",
              "      <td>Subject: hpl nom for january 9 , 2001\\r\\n( see...</td>\n",
              "      <td>0</td>\n",
              "    </tr>\n",
              "    <tr>\n",
              "      <th>2</th>\n",
              "      <td>3624</td>\n",
              "      <td>ham</td>\n",
              "      <td>Subject: neon retreat\\r\\nho ho ho , we ' re ar...</td>\n",
              "      <td>0</td>\n",
              "    </tr>\n",
              "    <tr>\n",
              "      <th>3</th>\n",
              "      <td>4685</td>\n",
              "      <td>spam</td>\n",
              "      <td>Subject: photoshop , windows , office . cheap ...</td>\n",
              "      <td>1</td>\n",
              "    </tr>\n",
              "    <tr>\n",
              "      <th>4</th>\n",
              "      <td>2030</td>\n",
              "      <td>ham</td>\n",
              "      <td>Subject: re : indian springs\\r\\nthis deal is t...</td>\n",
              "      <td>0</td>\n",
              "    </tr>\n",
              "  </tbody>\n",
              "</table>\n",
              "</div>"
            ],
            "text/plain": [
              "   Unnamed: 0  ... label_num\n",
              "0         605  ...         0\n",
              "1        2349  ...         0\n",
              "2        3624  ...         0\n",
              "3        4685  ...         1\n",
              "4        2030  ...         0\n",
              "\n",
              "[5 rows x 4 columns]"
            ]
          },
          "metadata": {
            "tags": []
          },
          "execution_count": 2
        }
      ]
    },
    {
      "cell_type": "code",
      "metadata": {
        "colab": {
          "base_uri": "https://localhost:8080/"
        },
        "id": "de30CVDcWo7v",
        "outputId": "05c173cc-31a0-4aeb-dce4-5c27789f4108"
      },
      "source": [
        "df = df.drop(['Unnamed: 0', 'label_num'], axis=1)\n",
        "df = df.rename(columns = {\"text\" : \"Message\"})\n",
        "df = df.rename(columns = {\"label\" : \"Label\"})\n",
        "df.info()"
      ],
      "execution_count": null,
      "outputs": [
        {
          "output_type": "stream",
          "text": [
            "<class 'pandas.core.frame.DataFrame'>\n",
            "RangeIndex: 5171 entries, 0 to 5170\n",
            "Data columns (total 2 columns):\n",
            " #   Column   Non-Null Count  Dtype \n",
            "---  ------   --------------  ----- \n",
            " 0   Label    5171 non-null   object\n",
            " 1   Message  5171 non-null   object\n",
            "dtypes: object(2)\n",
            "memory usage: 80.9+ KB\n"
          ],
          "name": "stdout"
        }
      ]
    },
    {
      "cell_type": "code",
      "metadata": {
        "id": "4718cQnRBy75"
      },
      "source": [
        "ctg = pd.get_dummies(df['Label'])\n",
        "df = pd.concat([df, ctg], axis=1)\n",
        "df = df.drop(columns='Label')"
      ],
      "execution_count": null,
      "outputs": []
    },
    {
      "cell_type": "code",
      "metadata": {
        "colab": {
          "base_uri": "https://localhost:8080/",
          "height": 204
        },
        "id": "BfwDc0nHCnjY",
        "outputId": "d2ef2709-c54a-4c51-dbaa-65e51de979fd"
      },
      "source": [
        "df.head()"
      ],
      "execution_count": null,
      "outputs": [
        {
          "output_type": "execute_result",
          "data": {
            "text/html": [
              "<div>\n",
              "<style scoped>\n",
              "    .dataframe tbody tr th:only-of-type {\n",
              "        vertical-align: middle;\n",
              "    }\n",
              "\n",
              "    .dataframe tbody tr th {\n",
              "        vertical-align: top;\n",
              "    }\n",
              "\n",
              "    .dataframe thead th {\n",
              "        text-align: right;\n",
              "    }\n",
              "</style>\n",
              "<table border=\"1\" class=\"dataframe\">\n",
              "  <thead>\n",
              "    <tr style=\"text-align: right;\">\n",
              "      <th></th>\n",
              "      <th>Message</th>\n",
              "      <th>ham</th>\n",
              "      <th>spam</th>\n",
              "    </tr>\n",
              "  </thead>\n",
              "  <tbody>\n",
              "    <tr>\n",
              "      <th>0</th>\n",
              "      <td>Subject: enron methanol ; meter # : 988291\\r\\n...</td>\n",
              "      <td>1</td>\n",
              "      <td>0</td>\n",
              "    </tr>\n",
              "    <tr>\n",
              "      <th>1</th>\n",
              "      <td>Subject: hpl nom for january 9 , 2001\\r\\n( see...</td>\n",
              "      <td>1</td>\n",
              "      <td>0</td>\n",
              "    </tr>\n",
              "    <tr>\n",
              "      <th>2</th>\n",
              "      <td>Subject: neon retreat\\r\\nho ho ho , we ' re ar...</td>\n",
              "      <td>1</td>\n",
              "      <td>0</td>\n",
              "    </tr>\n",
              "    <tr>\n",
              "      <th>3</th>\n",
              "      <td>Subject: photoshop , windows , office . cheap ...</td>\n",
              "      <td>0</td>\n",
              "      <td>1</td>\n",
              "    </tr>\n",
              "    <tr>\n",
              "      <th>4</th>\n",
              "      <td>Subject: re : indian springs\\r\\nthis deal is t...</td>\n",
              "      <td>1</td>\n",
              "      <td>0</td>\n",
              "    </tr>\n",
              "  </tbody>\n",
              "</table>\n",
              "</div>"
            ],
            "text/plain": [
              "                                             Message  ham  spam\n",
              "0  Subject: enron methanol ; meter # : 988291\\r\\n...    1     0\n",
              "1  Subject: hpl nom for january 9 , 2001\\r\\n( see...    1     0\n",
              "2  Subject: neon retreat\\r\\nho ho ho , we ' re ar...    1     0\n",
              "3  Subject: photoshop , windows , office . cheap ...    0     1\n",
              "4  Subject: re : indian springs\\r\\nthis deal is t...    1     0"
            ]
          },
          "metadata": {
            "tags": []
          },
          "execution_count": 5
        }
      ]
    },
    {
      "cell_type": "code",
      "metadata": {
        "colab": {
          "base_uri": "https://localhost:8080/"
        },
        "id": "5C6_o_Rtp_bt",
        "outputId": "41c3745f-6c03-4c24-e982-8bd3ec1ecfde"
      },
      "source": [
        "#panjang data\n",
        "len(df)"
      ],
      "execution_count": null,
      "outputs": [
        {
          "output_type": "execute_result",
          "data": {
            "text/plain": [
              "5171"
            ]
          },
          "metadata": {
            "tags": []
          },
          "execution_count": 6
        }
      ]
    },
    {
      "cell_type": "code",
      "metadata": {
        "colab": {
          "base_uri": "https://localhost:8080/"
        },
        "id": "hQb52FZgZf1q",
        "outputId": "dff98ae0-f314-47aa-8684-217a93aa109f"
      },
      "source": [
        "df.isna().sum()"
      ],
      "execution_count": null,
      "outputs": [
        {
          "output_type": "execute_result",
          "data": {
            "text/plain": [
              "Message    0\n",
              "ham        0\n",
              "spam       0\n",
              "dtype: int64"
            ]
          },
          "metadata": {
            "tags": []
          },
          "execution_count": 7
        }
      ]
    },
    {
      "cell_type": "code",
      "metadata": {
        "id": "nua8yRFvvBDh"
      },
      "source": [
        "X = df['Message'].values\n",
        "y = df[['ham','spam']].values"
      ],
      "execution_count": null,
      "outputs": []
    },
    {
      "cell_type": "code",
      "metadata": {
        "colab": {
          "base_uri": "https://localhost:8080/"
        },
        "id": "Ox92DLrhdTiz",
        "outputId": "e66816bc-fc14-494e-ed3a-6410889a8ea5"
      },
      "source": [
        "print(X.shape, y.shape)"
      ],
      "execution_count": null,
      "outputs": [
        {
          "output_type": "stream",
          "text": [
            "(5171,) (5171, 2)\n"
          ],
          "name": "stdout"
        }
      ]
    },
    {
      "cell_type": "code",
      "metadata": {
        "id": "rpc58DX8ejss"
      },
      "source": [
        "from tensorflow.keras.preprocessing.text import Tokenizer\n",
        "from tensorflow.keras.preprocessing.sequence import pad_sequences\n",
        "\n",
        "max_words = 10000\n",
        "max_len = 200\n",
        "\n",
        "tokenizer = Tokenizer(num_words=max_words, oov_token='x', filters='!\"#$%&()*+,-./:;<=>@[\\]^_`{|}~ ')\n",
        "tokenizer.fit_on_texts(X) \n",
        " \n",
        "X = tokenizer.texts_to_sequences(X)\n",
        " \n",
        "X = pad_sequences(X, maxlen=max_len) "
      ],
      "execution_count": null,
      "outputs": []
    },
    {
      "cell_type": "code",
      "metadata": {
        "id": "OwbD9GpcjSwt",
        "colab": {
          "base_uri": "https://localhost:8080/"
        },
        "outputId": "0fbb51f8-9206-496f-d51e-f7548bf60d4c"
      },
      "source": [
        "from sklearn.model_selection import train_test_split\n",
        "X_train, X_test, y_train, y_test = train_test_split(X, y, test_size=0.2, random_state=42, shuffle=True)\n",
        "print(X_train.shape, X_test.shape)\n",
        "print(y_train.shape, y_test.shape)"
      ],
      "execution_count": null,
      "outputs": [
        {
          "output_type": "stream",
          "text": [
            "(4136, 200) (1035, 200)\n",
            "(4136, 2) (1035, 2)\n"
          ],
          "name": "stdout"
        }
      ]
    },
    {
      "cell_type": "code",
      "metadata": {
        "id": "KZqGx8sIPLnH"
      },
      "source": [
        "import tensorflow as tf\n",
        "from keras.models import Model\n",
        "from keras.layers import LSTM, Activation, Dense, Dropout, Input, Embedding\n",
        "from keras.optimizers import RMSprop\n",
        "from keras.preprocessing.text import Tokenizer\n",
        "from keras.preprocessing import sequence"
      ],
      "execution_count": null,
      "outputs": []
    },
    {
      "cell_type": "code",
      "metadata": {
        "id": "CASH695_PFSp"
      },
      "source": [
        "def model():\n",
        "    inputs = Input(shape=[max_len])\n",
        "    layer = Embedding(max_words, 50, input_length=max_len)(inputs)\n",
        "    layer = LSTM(256, dropout=0.2, recurrent_dropout=0.2)(layer)\n",
        "    layer = Dense(256)(layer)\n",
        "    layer = Activation('relu')(layer)\n",
        "    layer = Dropout(0.5)(layer)\n",
        "    layer = Dense(2)(layer)\n",
        "    layer = Activation('sigmoid')(layer)\n",
        "    model = Model(inputs=inputs, outputs=layer)\n",
        "    return model"
      ],
      "execution_count": null,
      "outputs": []
    },
    {
      "cell_type": "code",
      "metadata": {
        "colab": {
          "base_uri": "https://localhost:8080/"
        },
        "id": "Cx1oq00oPnay",
        "outputId": "76339dee-637c-4c44-af2c-e611bceeec31"
      },
      "source": [
        "model = model()\n",
        "model.compile(loss='categorical_crossentropy',optimizer= RMSprop(),metrics=['accuracy'])\n",
        "print(model.summary())"
      ],
      "execution_count": null,
      "outputs": [
        {
          "output_type": "stream",
          "text": [
            "WARNING:tensorflow:Layer lstm will not use cuDNN kernels since it doesn't meet the criteria. It will use a generic GPU kernel as fallback when running on GPU.\n",
            "Model: \"model\"\n",
            "_________________________________________________________________\n",
            "Layer (type)                 Output Shape              Param #   \n",
            "=================================================================\n",
            "input_1 (InputLayer)         [(None, 200)]             0         \n",
            "_________________________________________________________________\n",
            "embedding (Embedding)        (None, 200, 50)           500000    \n",
            "_________________________________________________________________\n",
            "lstm (LSTM)                  (None, 256)               314368    \n",
            "_________________________________________________________________\n",
            "dense (Dense)                (None, 256)               65792     \n",
            "_________________________________________________________________\n",
            "activation (Activation)      (None, 256)               0         \n",
            "_________________________________________________________________\n",
            "dropout (Dropout)            (None, 256)               0         \n",
            "_________________________________________________________________\n",
            "dense_1 (Dense)              (None, 2)                 514       \n",
            "_________________________________________________________________\n",
            "activation_1 (Activation)    (None, 2)                 0         \n",
            "=================================================================\n",
            "Total params: 880,674\n",
            "Trainable params: 880,674\n",
            "Non-trainable params: 0\n",
            "_________________________________________________________________\n",
            "None\n"
          ],
          "name": "stdout"
        }
      ]
    },
    {
      "cell_type": "code",
      "metadata": {
        "id": "XeQ2KRto4POL"
      },
      "source": [
        "# callback\n",
        "class myCallback(tf.keras.callbacks.Callback):\n",
        "  def on_epoch_end(self, epoch, logs={}):\n",
        "    if(logs.get('accuracy')==1.0):\n",
        "      self.model.stop_training = True\n",
        "      print(\"\\nAkurasi mencapai 100%!\")\n",
        "callbacks = myCallback()"
      ],
      "execution_count": null,
      "outputs": []
    },
    {
      "cell_type": "code",
      "metadata": {
        "colab": {
          "base_uri": "https://localhost:8080/"
        },
        "id": "hUjwRwT4l0jC",
        "outputId": "c8d5aee0-8e85-4509-d9c5-268d029fd401"
      },
      "source": [
        "num_epochs = 200\n",
        "history = model.fit(X_train, y_train, batch_size=32,\n",
        "                    epochs=num_epochs, verbose=2,\n",
        "                    validation_data=(X_test, y_test), callbacks=[callbacks])"
      ],
      "execution_count": null,
      "outputs": [
        {
          "output_type": "stream",
          "text": [
            "Epoch 1/200\n",
            "130/130 - 127s - loss: 0.2796 - accuracy: 0.8965 - val_loss: 0.1410 - val_accuracy: 0.9440\n",
            "Epoch 2/200\n",
            "130/130 - 103s - loss: 0.1540 - accuracy: 0.9729 - val_loss: 0.0711 - val_accuracy: 0.9739\n",
            "Epoch 3/200\n",
            "130/130 - 104s - loss: 0.0604 - accuracy: 0.9836 - val_loss: 0.0667 - val_accuracy: 0.9710\n",
            "Epoch 4/200\n",
            "130/130 - 104s - loss: 0.0432 - accuracy: 0.9898 - val_loss: 0.0505 - val_accuracy: 0.9826\n",
            "Epoch 5/200\n",
            "130/130 - 103s - loss: 0.0327 - accuracy: 0.9932 - val_loss: 0.0609 - val_accuracy: 0.9855\n",
            "Epoch 6/200\n",
            "130/130 - 107s - loss: 0.0179 - accuracy: 0.9969 - val_loss: 0.0927 - val_accuracy: 0.9768\n",
            "Epoch 7/200\n",
            "130/130 - 107s - loss: 0.0145 - accuracy: 0.9956 - val_loss: 0.0890 - val_accuracy: 0.9778\n",
            "Epoch 8/200\n",
            "130/130 - 103s - loss: 0.0175 - accuracy: 0.9976 - val_loss: 0.3366 - val_accuracy: 0.9720\n",
            "Epoch 9/200\n",
            "130/130 - 104s - loss: 0.0127 - accuracy: 0.9978 - val_loss: 0.1095 - val_accuracy: 0.9787\n",
            "Epoch 10/200\n",
            "130/130 - 105s - loss: 0.0067 - accuracy: 0.9978 - val_loss: 0.1015 - val_accuracy: 0.9816\n",
            "Epoch 11/200\n",
            "130/130 - 104s - loss: 0.0063 - accuracy: 0.9985 - val_loss: 0.1204 - val_accuracy: 0.9758\n",
            "Epoch 12/200\n",
            "130/130 - 103s - loss: 0.0040 - accuracy: 0.9990 - val_loss: 0.1255 - val_accuracy: 0.9739\n",
            "Epoch 13/200\n",
            "130/130 - 104s - loss: 0.0033 - accuracy: 0.9993 - val_loss: 0.1582 - val_accuracy: 0.9787\n",
            "Epoch 14/200\n",
            "130/130 - 103s - loss: 0.0247 - accuracy: 0.9985 - val_loss: 0.1606 - val_accuracy: 0.9778\n",
            "Epoch 15/200\n",
            "130/130 - 102s - loss: 0.0311 - accuracy: 0.9985 - val_loss: 0.2011 - val_accuracy: 0.9807\n",
            "Epoch 16/200\n",
            "130/130 - 103s - loss: 0.0065 - accuracy: 0.9988 - val_loss: 0.1533 - val_accuracy: 0.9768\n",
            "Epoch 17/200\n",
            "130/130 - 102s - loss: 0.0099 - accuracy: 0.9993 - val_loss: 0.1350 - val_accuracy: 0.9816\n",
            "Epoch 18/200\n",
            "130/130 - 102s - loss: 0.0012 - accuracy: 0.9995 - val_loss: 0.1918 - val_accuracy: 0.9836\n",
            "Epoch 19/200\n",
            "130/130 - 101s - loss: 1.2967e-04 - accuracy: 1.0000 - val_loss: 0.1999 - val_accuracy: 0.9836\n",
            "\n",
            "Akurasi mencapai 100%!\n"
          ],
          "name": "stdout"
        }
      ]
    },
    {
      "cell_type": "code",
      "metadata": {
        "id": "CNKL-mq-qpbA",
        "colab": {
          "base_uri": "https://localhost:8080/",
          "height": 281
        },
        "outputId": "1fd9e6b2-348f-4501-f046-e25e02210224"
      },
      "source": [
        "import matplotlib.pyplot as plt\n",
        "plt.plot(history.history['loss'])\n",
        "plt.plot(history.history['val_loss'])\n",
        "plt.xlabel('Epoch')\n",
        "plt.ylabel('Loss')\n",
        "plt.legend(['Train', 'Test'])\n",
        "plt.show()"
      ],
      "execution_count": null,
      "outputs": [
        {
          "output_type": "display_data",
          "data": {
            "image/png": "[encoded data removed]",
            "text/plain": [
              "<Figure size 432x288 with 1 Axes>"
            ]
          },
          "metadata": {
            "tags": [],
            "needs_background": "light"
          }
        }
      ]
    },
    {
      "cell_type": "code",
      "metadata": {
        "colab": {
          "base_uri": "https://localhost:8080/",
          "height": 279
        },
        "id": "S5fD1l_f_AoL",
        "outputId": "d40dbd32-9e9b-43dd-c596-656b35b9455a"
      },
      "source": [
        "plt.plot(history.history['accuracy'])\n",
        "plt.plot(history.history['val_accuracy'])\n",
        "plt.xlabel('Epoch')\n",
        "plt.ylabel('Accuracy')\n",
        "plt.legend(['Train', 'Test'])\n",
        "plt.show()"
      ],
      "execution_count": null,
      "outputs": [
        {
          "output_type": "display_data",
          "data": {
            "image/png": "[encoded data removed]",
            "text/plain": [
              "<Figure size 432x288 with 1 Axes>"
            ]
          },
          "metadata": {
            "tags": [],
            "needs_background": "light"
          }
        }
      ]
    }
  ]
}